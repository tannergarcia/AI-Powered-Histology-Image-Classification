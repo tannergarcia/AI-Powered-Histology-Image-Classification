{
 "cells": [
  {
   "cell_type": "code",
   "execution_count": 7,
   "id": "d79c3cc0-0b64-4290-8d59-63df6b0155ee",
   "metadata": {
    "tags": []
   },
   "outputs": [
    {
     "name": "stdout",
     "output_type": "stream",
     "text": [
      "Current working directory: /blue/vabfmc/data/working/d.uriartediaz/francokrepel/project-root\n"
     ]
    }
   ],
   "source": [
    "import os\n",
    "import sys\n",
    "project_root = os.path.abspath(\"/blue/vabfmc/data/working/d.uriartediaz/francokrepel/project-root\")\n",
    "os.chdir(project_root)  # Change directory to project_root\n",
    "print(\"Current working directory:\", os.getcwd())\n",
    "import torch\n",
    "from torchvision import transforms\n",
    "from src.models.simclr_model import SimCLRModel\n",
    "\n",
    "device = torch.device('cuda' if torch.cuda.is_available() else 'cpu')\n",
    "\n",
    "# test_graph_creation.py\n",
    "\n",
    "import pandas as pd\n",
    "import os\n",
    "import numpy as np\n",
    "import networkx as nx\n",
    "from torch_geometric.utils import from_networkx\n",
    "\n",
    "# Parameters\n",
    "slide_id_to_test = 'slide-2022-02-09T12-26-27-R5-S1'  # Replace with your slide_id\n",
    "\n",
    "# Load features\n",
    "df = pd.read_csv('data/features/patch_features.csv')\n",
    "\n",
    "# Convert feature columns to numeric types (if applicable)\n",
    "feature_cols = [str(i) for i in range(512) if str(i) in df.columns]\n",
    "if feature_cols:\n",
    "    df[feature_cols] = df[feature_cols].apply(pd.to_numeric, errors='coerce')\n",
    "    # Handle missing values\n",
    "    if df[feature_cols].isnull().values.any():\n",
    "        print(\"Warning: NaNs detected in feature columns. Filling NaNs with zero.\")\n",
    "        df[feature_cols] = df[feature_cols].fillna(0)\n",
    "else:\n",
    "    print(\"No feature columns found. Proceeding without features.\")\n"
   ]
  },
  {
   "cell_type": "code",
   "execution_count": 8,
   "id": "1ff515c5-f1e2-4910-99fb-b7fadc826ff9",
   "metadata": {
    "tags": []
   },
   "outputs": [
    {
     "name": "stdout",
     "output_type": "stream",
     "text": [
      "Graph for slide_id: slide-2022-02-09T12-26-27-R5-S1\n",
      "Number of nodes: 3921\n",
      "Number of edges: 13810\n"
     ]
    },
    {
     "name": "stderr",
     "output_type": "stream",
     "text": [
      "/scratch/local/49326512/ipykernel_2650350/2153445332.py:5: PerformanceWarning: DataFrame is highly fragmented.  This is usually the result of calling `frame.insert` many times, which has poor performance.  Consider joining all columns at once using pd.concat(axis=1) instead. To get a de-fragmented frame, use `newframe = frame.copy()`\n",
      "  df['label'] = df['slide_id'].map(labels_dict).map(label_mapping)\n"
     ]
    }
   ],
   "source": [
    "\n",
    "# Load slide labels\n",
    "metadata = pd.read_csv('data/BCC_labels.csv')\n",
    "labels_dict = dict(zip(metadata['slide_id'], metadata['label']))\n",
    "label_mapping = {'Clear': 0, 'Present': 1}\n",
    "df['label'] = df['slide_id'].map(labels_dict).map(label_mapping)\n",
    "\n",
    "# Filter the DataFrame for the specific slide\n",
    "slide_df = df[df['slide_id'] == slide_id_to_test]\n",
    "\n",
    "if slide_df.empty:\n",
    "    print(f\"No data found for slide_id: {slide_id_to_test}\")\n",
    "else:\n",
    "    # Extract features and coordinates for this slide\n",
    "    if feature_cols:\n",
    "        features_array = slide_df[feature_cols].values.astype(np.float32)\n",
    "    else:\n",
    "        features_array = None  # If no features are available\n",
    "\n",
    "    coords_array = slide_df[['x_coord', 'y_coord']].values.astype(int)\n",
    "\n",
    "    # Use coordinates directly as grid positions\n",
    "    grid_positions = [tuple(pos) for pos in coords_array]\n",
    "\n",
    "    # Create mapping from grid positions to node indices\n",
    "    grid_to_node = {pos: idx for idx, pos in enumerate(grid_positions)}\n",
    "\n",
    "    # Create a graph\n",
    "    G = nx.Graph()\n",
    "\n",
    "    # Add nodes\n",
    "    node_ids = slide_df.index.tolist()\n",
    "    for i, node_id in enumerate(node_ids):\n",
    "        if features_array is not None:\n",
    "            G.add_node(node_id, feature=features_array[i], coords=coords_array[i])\n",
    "        else:\n",
    "            G.add_node(node_id, coords=coords_array[i])\n",
    "\n",
    "    # Add edges to immediate neighbors\n",
    "    for i, node_id1 in enumerate(node_ids):\n",
    "        pos = grid_positions[i]\n",
    "        neighbors = [\n",
    "            (pos[0] - 1, pos[1]),     # Left\n",
    "            (pos[0] + 1, pos[1]),     # Right\n",
    "            (pos[0], pos[1] - 1),     # Above\n",
    "            (pos[0], pos[1] + 1),     # Below\n",
    "            (pos[0] - 1, pos[1] - 1), # Top-left\n",
    "            (pos[0] - 1, pos[1] + 1), # Bottom-left\n",
    "            (pos[0] + 1, pos[1] - 1), # Top-right\n",
    "            (pos[0] + 1, pos[1] + 1)  # Bottom-right\n",
    "        ]\n",
    "        for neighbor_pos in neighbors:\n",
    "            if neighbor_pos in grid_to_node:\n",
    "                node_id2 = node_ids[grid_to_node[neighbor_pos]]\n",
    "                G.add_edge(node_id1, node_id2)\n",
    "\n",
    "    # Output the number of nodes and edges\n",
    "    num_nodes = G.number_of_nodes()\n",
    "    num_edges = G.number_of_edges()\n",
    "\n",
    "    print(f\"Graph for slide_id: {slide_id_to_test}\")\n",
    "    print(f\"Number of nodes: {num_nodes}\")\n",
    "    print(f\"Number of edges: {num_edges}\")\n"
   ]
  },
  {
   "cell_type": "code",
   "execution_count": 9,
   "id": "79a96be2-5ab3-4b93-8660-eb5d59f8c337",
   "metadata": {
    "tags": []
   },
   "outputs": [
    {
     "data": {
      "image/png": "[encoded data removed]",
      "text/plain": [
       "<Figure size 640x480 with 1 Axes>"
      ]
     },
     "metadata": {},
     "output_type": "display_data"
    }
   ],
   "source": [
    "import matplotlib.pyplot as plt\n",
    "nx.draw(G, node_size=10)\n",
    "plt.show()"
   ]
  }
 ],
 "metadata": {
  "kernelspec": {
   "display_name": "PyTorch-2.2.0",
   "language": "python",
   "name": "pytorch-2.2.0"
  },
  "language_info": {
   "codemirror_mode": {
    "name": "ipython",
    "version": 3
   },
   "file_extension": ".py",
   "mimetype": "text/x-python",
   "name": "python",
   "nbconvert_exporter": "python",
   "pygments_lexer": "ipython3",
   "version": "3.10.13"
  }
 },
 "nbformat": 4,
 "nbformat_minor": 5
}
