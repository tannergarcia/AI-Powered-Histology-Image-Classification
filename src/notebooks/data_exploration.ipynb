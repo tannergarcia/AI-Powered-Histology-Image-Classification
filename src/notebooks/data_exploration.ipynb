import cv2
import matplotlib.pyplot as plt

# Example function load and display images
def display_sample_image(image_path):
    img = cv2.imread(image_path)
    img_rgb = cv2.cvtColor(img, cv2.COLOR_BGR2RGB)
    plt.imshow(img_rgb)
    plt.show()

# Display a sample image (update path accordingly)
display_sample_image('data/sample_image.jpg')
