{
 "cells": [
  {
   "cell_type": "code",
   "execution_count": 95,
   "id": "d8ca2024-540a-41f5-aeeb-0734b2137e20",
   "metadata": {
    "tags": []
   },
   "outputs": [],
   "source": [
    "import os\n",
    "import pandas as pd\n",
    "import tensorflow as tf\n",
    "from tensorflow.keras.preprocessing.image import ImageDataGenerator\n",
    "from tensorflow.keras.applications import ResNet50\n",
    "from tensorflow.keras.layers import Dense, GlobalAveragePooling2D, Dropout\n",
    "from tensorflow.keras.models import Model\n",
    "from tensorflow.keras.optimizers import Adam\n",
    "from sklearn.model_selection import train_test_split\n",
    "from tensorflow.keras.regularizers import l2\n",
    "from tensorflow.keras.callbacks import EarlyStopping, ReduceLROnPlateau\n",
    "import shutil\n",
    "\n",
    "# Paths\n",
    "image_dir = '../256x256'\n",
    "metadata_file = 'project-root/data/BCC_labels.csv'\n",
    "output_dir = 'organized_data'"
   ]
  },
  {
   "cell_type": "code",
   "execution_count": 56,
   "id": "c1cd95a9-c3e5-403d-a35a-1083caee24b0",
   "metadata": {
    "tags": []
   },
   "outputs": [],
   "source": [
    "# Step 1: Load and process metadata\n",
    "metadata = pd.read_csv(metadata_file)\n",
    "metadata['label'] = metadata['label'].map({'Clear': 0, 'Present': 1})  # Map labels to 0 and 1\n",
    "\n",
    "# Group by StudyID to split data\n",
    "grouped = metadata.groupby('StudyID #')"
   ]
  },
  {
   "cell_type": "code",
   "execution_count": 57,
   "id": "6d1393e8-e51e-4569-b0da-6fdcf45840ac",
   "metadata": {
    "collapsed": true,
    "jupyter": {
     "outputs_hidden": true
    },
    "tags": []
   },
   "outputs": [
    {
     "name": "stdout",
     "output_type": "stream",
     "text": [
      "Tissue images per slide: {'slide-2022-02-09T12-26-27-R5-S1': 3, 'slide-2022-02-09T12-28-49-R5-S2': 3, 'slide-2022-02-09T12-30-52-R5-S3': 2, 'slide-2022-02-09T12-33-12-R5-S4': 2, 'slide-2022-02-09T12-36-31-R5-S5': 1, 'slide-2022-02-09T12-38-53-R5-S6': 2, 'slide-2022-02-09T12-41-58-R5-S7': 1, 'slide-2022-02-09T12-44-19-R5-S8': 2, 'slide-2022-02-09T12-47-21-R5-S9': 4, 'slide-2022-02-09T13-08-40-R5-S17': 2, 'slide-2022-02-09T13-11-39-R5-S18': 2, 'slide-2022-02-09T13-14-10-R5-S19': 2, 'slide-2022-02-09T13-15-57-R5-S20': 3, 'slide-2022-02-09T13-18-39-R5-S21': 4, 'slide-2022-02-09T13-21-07-R5-S22': 3, 'slide-2022-02-09T13-23-51-R5-S23': 2, 'slide-2022-02-09T13-26-16-R5-S24': 2, 'slide-2022-02-09T13-29-07-R5-S25': 2, 'slide-2022-02-09T13-31-46-R6-S1': 2, 'slide-2022-02-09T13-33-41-R6-S2': 4, 'slide-2022-02-09T13-36-50-R6-S3': 2, 'slide-2022-02-09T13-39-43-R6-S4': 3, 'slide-2022-02-09T13-42-12-R6-S5': 3, 'slide-2022-02-09T13-44-36-R6-S6': 2, 'slide-2022-02-09T13-46-51-R6-S7': 5, 'slide-2022-02-09T13-48-54-R6-S8': 3, 'slide-2022-02-09T13-50-59-R6-S9': 2, 'slide-2022-02-09T13-52-44-R6-S10': 2, 'slide-2022-02-09T13-55-01-R6-S11': 2, 'slide-2022-02-09T13-57-33-R6-S12': 2, 'slide-2022-02-09T13-59-49-R6-S13': 1, 'slide-2022-02-09T14-01-56-R6-S14': 1, 'slide-2022-02-09T14-03-23-R6-S15': 2, 'slide-2022-02-09T14-06-34-R6-S16': 3, 'slide-2022-02-09T14-08-57-R6-S17': 3, 'slide-2022-02-09T14-11-51-R6-S18': 1, 'slide-2022-02-09T14-14-45-R6-S19': 2, 'slide-2022-02-09T14-16-36-R6-S20': 2, 'slide-2022-02-09T14-18-51-R6-S21': 3, 'slide-2022-02-09T14-20-39-R6-S22': 2, 'slide-2022-02-09T14-22-21-R6-S23': 3, 'slide-2022-02-09T14-23-53-R6-S24': 2, 'slide-2022-02-09T14-26-43-R6-S25': 2, 'slide-2022-02-09T14-41-26-R7-S5': 3, 'slide-2022-02-09T14-43-16-R7-S6': 3, 'slide-2022-02-09T14-45-25-R7-S7': 3, 'slide-2022-02-09T14-47-32-R7-S8': 3, 'slide-2022-02-09T14-49-24-R7-S9': 2, 'slide-2022-02-09T14-51-51-R7-S10': 3, 'slide-2022-02-09T14-53-47-R7-S11': 2, 'slide-2022-02-09T14-56-25-R7-S12': 2, 'slide-2022-02-09T14-58-16-R7-S13': 1, 'slide-2022-02-09T15-00-33-R7-S14': 2, 'slide-2022-02-09T15-02-11-R7-S15': 4, 'slide-2022-02-09T15-05-03-R7-S16': 3, 'slide-2022-02-09T15-06-50-R7-S17': 2, 'slide-2022-02-09T15-08-42-R7-S18': 4, 'slide-2022-02-09T15-10-26-R7-S19': 1, 'slide-2022-02-09T15-12-27-R7-S20': 4, 'slide-2022-02-09T15-15-02-R7-S21': 3, 'slide-2022-02-09T15-16-56-R7-S22': 3, 'slide-2022-02-09T15-18-21-R7-S23': 2, 'slide-2022-02-09T15-20-24-R7-S24': 3, 'slide-2022-02-09T15-22-45-R7-S25': 1, 'slide-2022-02-09T15-26-14-R8-S1': 4, 'slide-2022-02-09T15-28-54-R8-S2': 1, 'slide-2022-02-09T15-31-49-R8-S3': 1, 'slide-2022-02-09T15-34-24-R8-S4': 1, 'slide-2022-02-09T15-37-14-R8-S5': 1, 'slide-2022-02-09T15-39-07-R8-S6': 3, 'slide-2022-02-09T15-41-17-R8-S7': 3, 'slide-2022-02-09T15-43-43-R8-S8': 2, 'slide-2022-02-09T15-46-56-R8-S9': 2, 'slide-2022-02-09T15-49-30-R8-S10': 1, 'slide-2022-02-09T15-52-31-R8-S11': 1, 'slide-2022-02-09T15-55-26-R8-S12': 3, 'slide-2022-02-09T15-58-32-R8-S13': 2, 'slide-2022-02-09T16-01-16-R8-S14': 2, 'slide-2022-02-09T16-04-32-R8-S15': 1, 'slide-2022-02-09T16-07-00-R8-S16': 2, 'slide-2022-02-09T16-09-56-R8-S17': 2, 'slide-2022-02-09T16-23-42-R8-S22': 2, 'slide-2022-02-09T16-27-06-R8-S23': 2, 'slide-2022-02-09T16-29-48-R8-S24': 1, 'slide-2022-02-09T16-33-19-R8-S25': 1, 'slide-2022-02-09T16-37-24-R9-S1': 1, 'slide-2022-02-09T16-40-50-R9-S2': 3, 'slide-2022-02-09T16-44-03-R9-S3': 2, 'slide-2022-02-09T16-46-59-R9-S4': 2, 'slide-2022-02-09T16-50-23-R9-S5': 2, 'slide-2022-02-09T17-09-29-R9-S11': 2, 'slide-2022-02-09T17-12-02-R9-S12': 3}\n",
      "Total tissue images found: 208\n"
     ]
    }
   ],
   "source": [
    "slide_counts = {}\n",
    "for slide_id in metadata['slide_id'].unique():\n",
    "    slide_folder = os.path.join(image_dir, slide_id)\n",
    "    if os.path.exists(slide_folder):\n",
    "        slide_counts[slide_id] = len([f for f in os.listdir(slide_folder) if f.endswith('.png')])\n",
    "    else:\n",
    "        slide_counts[slide_id] = 0\n",
    "\n",
    "print(f\"Tissue images per slide: {slide_counts}\")\n",
    "print(f\"Total tissue images found: {sum(slide_counts.values())}\")"
   ]
  },
  {
   "cell_type": "code",
   "execution_count": 58,
   "id": "1143fea6-7681-4c75-b2ad-fe1616d79661",
   "metadata": {
    "tags": []
   },
   "outputs": [
    {
     "name": "stdout",
     "output_type": "stream",
     "text": [
      "Total images copied to organized_data/train: 165\n",
      "Total images copied to organized_data/val: 43\n"
     ]
    }
   ],
   "source": [
    "# Convert the keys to a list\n",
    "train_study_ids, val_study_ids = train_test_split(list(grouped.groups.keys()), test_size=0.2, random_state=42)\n",
    "\n",
    "\n",
    "# Create organized directories for training and validation sets\n",
    "train_dir = os.path.join(output_dir, 'train')\n",
    "val_dir = os.path.join(output_dir, 'val')\n",
    "os.makedirs(train_dir, exist_ok=True)\n",
    "os.makedirs(val_dir, exist_ok=True)\n",
    "\n",
    "def organize_images(group_ids, dest_dir):\n",
    "    total_copied = 0  # Track copied images\n",
    "    for study_id in group_ids:\n",
    "        group = grouped.get_group(study_id)\n",
    "        for _, row in group.iterrows():\n",
    "            slide_id = row['slide_id']\n",
    "            label = row['label']\n",
    "            label_dir = 'Clear' if label == 0 else 'Present'\n",
    "            source_dir = os.path.join(image_dir, slide_id)\n",
    "            dest_label_dir = os.path.join(dest_dir, label_dir)\n",
    "            os.makedirs(dest_label_dir, exist_ok=True)\n",
    "            if os.path.exists(source_dir):\n",
    "                for file in os.listdir(source_dir):\n",
    "                    if file.endswith('.png'):\n",
    "                        # Append slide_id to filename to prevent overwriting\n",
    "                        new_file_name = f\"{slide_id}_{file}\"\n",
    "                        shutil.copy(\n",
    "                            os.path.join(source_dir, file),\n",
    "                            os.path.join(dest_label_dir, new_file_name)\n",
    "                        )\n",
    "                        total_copied += 1\n",
    "    print(f\"Total images copied to {dest_dir}: {total_copied}\")\n",
    "\n",
    "# Re-run the function with this updated code\n",
    "organize_images(train_study_ids, train_dir)\n",
    "organize_images(val_study_ids, val_dir)"
   ]
  },
  {
   "cell_type": "code",
   "execution_count": 91,
   "id": "5bf6146a-81f3-451e-a139-883bb3907be7",
   "metadata": {
    "tags": []
   },
   "outputs": [
    {
     "name": "stdout",
     "output_type": "stream",
     "text": [
      "Found 165 images belonging to 2 classes.\n",
      "Found 43 images belonging to 2 classes.\n"
     ]
    }
   ],
   "source": [
    "# Step 2: ImageDataGenerator for training and validation\n",
    "#image_size = (1792, 1792)\n",
    "image_size = (256, 256)\n",
    "batch_size = 32  # Adjust as per available memory\n",
    "\n",
    "train_datagen = ImageDataGenerator(\n",
    "    rescale=1.0 / 255.0,\n",
    "    horizontal_flip=True,\n",
    "    vertical_flip=True,\n",
    "    zoom_range=0.2,\n",
    "    rotation_range=20,\n",
    "    width_shift_range=0.1,\n",
    "    height_shift_range=0.1,\n",
    "    shear_range=0.2,\n",
    "    brightness_range=(0.8, 1.2),\n",
    "    channel_shift_range=0.1\n",
    ")\n",
    "\n",
    "\n",
    "val_datagen = ImageDataGenerator(rescale=1.0 / 255.0)\n",
    "\n",
    "train_generator = train_datagen.flow_from_directory(\n",
    "    train_dir,\n",
    "    target_size=image_size,\n",
    "    batch_size=batch_size,\n",
    "    class_mode='binary'\n",
    ")\n",
    "\n",
    "val_generator = val_datagen.flow_from_directory(\n",
    "    val_dir,\n",
    "    target_size=image_size,\n",
    "    batch_size=batch_size,\n",
    "    class_mode='binary'\n",
    ")"
   ]
  },
  {
   "cell_type": "code",
   "execution_count": 109,
   "id": "a903d26c-2b95-4387-b89f-80f0308006de",
   "metadata": {
    "tags": []
   },
   "outputs": [],
   "source": [
    "# Step 3: Load the Pre-trained ResNet-50 model without the top layers\n",
    "#base_model = ResNet50(weights='imagenet', include_top=False, input_shape=(1792, 1792, 3))\n",
    "base_model = ResNet50(weights='imagenet', include_top=False, input_shape=(256, 256, 3))\n",
    "\n",
    "# Add custom layers for binary classification\n",
    "x = base_model.output\n",
    "x = GlobalAveragePooling2D()(x)\n",
    "x = Dense(1024, activation='relu')(x)\n",
    "\n",
    "\n",
    "predictions = Dense(1, activation='sigmoid')(x)"
   ]
  },
  {
   "cell_type": "code",
   "execution_count": 110,
   "id": "dcca5e1a-0dfb-433d-ad75-f8ea8fe6897e",
   "metadata": {
    "tags": []
   },
   "outputs": [],
   "source": [
    "# Step 4: Create the full model\n",
    "model = Model(inputs=base_model.input, outputs=predictions)\n",
    "\n",
    "# Freeze the base model layers initially\n",
    "for layer in base_model.layers:\n",
    "    layer.trainable = False"
   ]
  },
  {
   "cell_type": "code",
   "execution_count": 111,
   "id": "a862e447-e1ac-4178-b795-fd9cb6bb054c",
   "metadata": {
    "tags": []
   },
   "outputs": [],
   "source": [
    "# Step 5: Compile the model\n",
    "model.compile(optimizer=Adam(lr=1e-4), loss='binary_crossentropy', metrics=['accuracy'])"
   ]
  },
  {
   "cell_type": "code",
   "execution_count": 112,
   "id": "408f867e-6c73-46f0-b670-e62f3ff45a85",
   "metadata": {
    "collapsed": true,
    "jupyter": {
     "outputs_hidden": true
    },
    "tags": []
   },
   "outputs": [
    {
     "name": "stdout",
     "output_type": "stream",
     "text": [
      "Epoch 1/30\n",
      "6/6 [==============================] - 5s 477ms/step - loss: 0.7326 - accuracy: 0.5091 - val_loss: 0.6965 - val_accuracy: 0.5116\n",
      "Epoch 2/30\n",
      "6/6 [==============================] - 2s 358ms/step - loss: 0.6912 - accuracy: 0.5515 - val_loss: 0.7603 - val_accuracy: 0.4884\n",
      "Epoch 3/30\n",
      "6/6 [==============================] - 2s 361ms/step - loss: 0.7222 - accuracy: 0.5152 - val_loss: 0.6897 - val_accuracy: 0.5349\n",
      "Epoch 4/30\n",
      "6/6 [==============================] - 2s 427ms/step - loss: 0.6950 - accuracy: 0.4848 - val_loss: 0.6903 - val_accuracy: 0.5116\n",
      "Epoch 5/30\n",
      "6/6 [==============================] - 2s 355ms/step - loss: 0.6936 - accuracy: 0.4606 - val_loss: 0.6890 - val_accuracy: 0.5581\n",
      "Epoch 6/30\n",
      "6/6 [==============================] - 2s 355ms/step - loss: 0.6873 - accuracy: 0.5455 - val_loss: 0.6893 - val_accuracy: 0.5116\n",
      "Epoch 7/30\n",
      "6/6 [==============================] - 2s 360ms/step - loss: 0.6936 - accuracy: 0.5030 - val_loss: 0.6848 - val_accuracy: 0.5116\n",
      "Epoch 8/30\n",
      "6/6 [==============================] - 2s 354ms/step - loss: 0.6800 - accuracy: 0.5212 - val_loss: 0.7056 - val_accuracy: 0.4884\n",
      "Epoch 9/30\n",
      "6/6 [==============================] - 2s 427ms/step - loss: 0.6924 - accuracy: 0.5455 - val_loss: 0.6816 - val_accuracy: 0.6279\n",
      "Epoch 10/30\n",
      "6/6 [==============================] - 2s 353ms/step - loss: 0.6914 - accuracy: 0.5515 - val_loss: 0.6961 - val_accuracy: 0.5116\n",
      "Epoch 11/30\n",
      "6/6 [==============================] - 2s 427ms/step - loss: 0.7064 - accuracy: 0.4606 - val_loss: 0.6846 - val_accuracy: 0.5814\n",
      "Epoch 12/30\n",
      "6/6 [==============================] - 2s 450ms/step - loss: 0.6872 - accuracy: 0.4909 - val_loss: 0.6854 - val_accuracy: 0.5116\n",
      "Epoch 13/30\n",
      "6/6 [==============================] - 2s 360ms/step - loss: 0.6855 - accuracy: 0.6061 - val_loss: 0.6783 - val_accuracy: 0.5814\n",
      "Epoch 14/30\n",
      "6/6 [==============================] - 2s 358ms/step - loss: 0.6918 - accuracy: 0.5333 - val_loss: 0.7015 - val_accuracy: 0.5116\n",
      "Epoch 15/30\n",
      "6/6 [==============================] - 2s 354ms/step - loss: 0.6878 - accuracy: 0.5697 - val_loss: 0.6759 - val_accuracy: 0.6047\n",
      "Epoch 16/30\n",
      "6/6 [==============================] - 2s 428ms/step - loss: 0.6810 - accuracy: 0.5030 - val_loss: 0.6751 - val_accuracy: 0.6047\n",
      "Epoch 17/30\n",
      "6/6 [==============================] - 2s 356ms/step - loss: 0.6817 - accuracy: 0.6061 - val_loss: 0.6736 - val_accuracy: 0.6512\n",
      "Epoch 18/30\n",
      "6/6 [==============================] - 2s 354ms/step - loss: 0.6753 - accuracy: 0.6364 - val_loss: 0.6721 - val_accuracy: 0.4651\n",
      "Epoch 19/30\n",
      "6/6 [==============================] - 2s 428ms/step - loss: 0.6745 - accuracy: 0.6545 - val_loss: 0.6714 - val_accuracy: 0.5581\n",
      "Epoch 20/30\n",
      "6/6 [==============================] - 2s 355ms/step - loss: 0.6762 - accuracy: 0.5636 - val_loss: 0.6881 - val_accuracy: 0.5349\n",
      "Epoch 21/30\n",
      "6/6 [==============================] - 2s 371ms/step - loss: 0.6837 - accuracy: 0.5091 - val_loss: 0.6706 - val_accuracy: 0.5581\n",
      "Epoch 22/30\n",
      "6/6 [==============================] - 2s 356ms/step - loss: 0.6744 - accuracy: 0.6121 - val_loss: 0.6696 - val_accuracy: 0.5814\n",
      "Epoch 23/30\n",
      "6/6 [==============================] - 2s 357ms/step - loss: 0.6659 - accuracy: 0.5697 - val_loss: 0.6929 - val_accuracy: 0.5349\n",
      "Epoch 24/30\n",
      "6/6 [==============================] - 2s 429ms/step - loss: 0.6803 - accuracy: 0.5333 - val_loss: 0.6674 - val_accuracy: 0.5814\n",
      "Epoch 25/30\n",
      "6/6 [==============================] - 2s 439ms/step - loss: 0.7036 - accuracy: 0.5212 - val_loss: 0.6888 - val_accuracy: 0.5116\n",
      "Epoch 26/30\n",
      "6/6 [==============================] - 2s 362ms/step - loss: 0.6698 - accuracy: 0.6303 - val_loss: 0.6653 - val_accuracy: 0.5349\n",
      "Epoch 27/30\n",
      "6/6 [==============================] - 2s 358ms/step - loss: 0.6699 - accuracy: 0.5697 - val_loss: 0.6810 - val_accuracy: 0.5116\n",
      "Epoch 28/30\n",
      "6/6 [==============================] - 2s 358ms/step - loss: 0.6820 - accuracy: 0.5576 - val_loss: 0.6641 - val_accuracy: 0.6047\n",
      "Epoch 29/30\n",
      "6/6 [==============================] - 2s 358ms/step - loss: 0.6683 - accuracy: 0.5697 - val_loss: 0.6651 - val_accuracy: 0.6279\n",
      "Epoch 30/30\n",
      "6/6 [==============================] - 2s 361ms/step - loss: 0.6673 - accuracy: 0.5939 - val_loss: 0.6860 - val_accuracy: 0.5116\n"
     ]
    }
   ],
   "source": [
    "# Step 6: Train the model\n",
    "history = model.fit(\n",
    "    train_generator,\n",
    "    epochs=30,\n",
    "    validation_data=val_generator,\n",
    "    verbose=1\n",
    ")\n"
   ]
  },
  {
   "cell_type": "code",
   "execution_count": 116,
   "id": "90de78a9-2ad2-4715-815d-03465bcdd59e",
   "metadata": {
    "collapsed": true,
    "jupyter": {
     "outputs_hidden": true
    },
    "tags": []
   },
   "outputs": [
    {
     "name": "stdout",
     "output_type": "stream",
     "text": [
      "Epoch 1/40\n",
      "6/6 [==============================] - 5s 478ms/step - loss: 0.3724 - accuracy: 0.8485 - val_loss: 0.4710 - val_accuracy: 0.8140\n",
      "Epoch 2/40\n",
      "6/6 [==============================] - 2s 356ms/step - loss: 0.3889 - accuracy: 0.8303 - val_loss: 0.4354 - val_accuracy: 0.8605\n",
      "Epoch 3/40\n",
      "6/6 [==============================] - 2s 352ms/step - loss: 0.3826 - accuracy: 0.8545 - val_loss: 0.4272 - val_accuracy: 0.8605\n",
      "Epoch 4/40\n",
      "6/6 [==============================] - 2s 357ms/step - loss: 0.3280 - accuracy: 0.8788 - val_loss: 0.4555 - val_accuracy: 0.8372\n",
      "Epoch 5/40\n",
      "6/6 [==============================] - 2s 362ms/step - loss: 0.3697 - accuracy: 0.8424 - val_loss: 0.4383 - val_accuracy: 0.8372\n",
      "Epoch 6/40\n",
      "6/6 [==============================] - 2s 356ms/step - loss: 0.3519 - accuracy: 0.8303 - val_loss: 0.4445 - val_accuracy: 0.8140\n",
      "Epoch 7/40\n",
      "6/6 [==============================] - 2s 357ms/step - loss: 0.3594 - accuracy: 0.8485 - val_loss: 0.4814 - val_accuracy: 0.8140\n",
      "Epoch 8/40\n",
      "6/6 [==============================] - 2s 355ms/step - loss: 0.3599 - accuracy: 0.8545 - val_loss: 0.5202 - val_accuracy: 0.7674\n",
      "Epoch 9/40\n",
      "6/6 [==============================] - 2s 426ms/step - loss: 0.3127 - accuracy: 0.8667 - val_loss: 0.4570 - val_accuracy: 0.8372\n",
      "Epoch 10/40\n",
      "6/6 [==============================] - 2s 351ms/step - loss: 0.3504 - accuracy: 0.8667 - val_loss: 0.4275 - val_accuracy: 0.8605\n",
      "Epoch 11/40\n",
      "6/6 [==============================] - 2s 381ms/step - loss: 0.2999 - accuracy: 0.8667 - val_loss: 0.4308 - val_accuracy: 0.8140\n",
      "Epoch 12/40\n",
      "6/6 [==============================] - 2s 423ms/step - loss: 0.3640 - accuracy: 0.8364 - val_loss: 0.4887 - val_accuracy: 0.7907\n",
      "Epoch 13/40\n",
      "6/6 [==============================] - 2s 353ms/step - loss: 0.3334 - accuracy: 0.8788 - val_loss: 0.5111 - val_accuracy: 0.7674\n",
      "Epoch 14/40\n",
      "6/6 [==============================] - 2s 357ms/step - loss: 0.3675 - accuracy: 0.8485 - val_loss: 0.6183 - val_accuracy: 0.6977\n",
      "Epoch 15/40\n",
      "6/6 [==============================] - 2s 356ms/step - loss: 0.3479 - accuracy: 0.8788 - val_loss: 0.5194 - val_accuracy: 0.7674\n",
      "Epoch 16/40\n",
      "6/6 [==============================] - 2s 354ms/step - loss: 0.3325 - accuracy: 0.8606 - val_loss: 0.4802 - val_accuracy: 0.8140\n",
      "Epoch 17/40\n",
      "6/6 [==============================] - 2s 364ms/step - loss: 0.3202 - accuracy: 0.8606 - val_loss: 0.4593 - val_accuracy: 0.8605\n",
      "Epoch 18/40\n",
      "6/6 [==============================] - 2s 355ms/step - loss: 0.3312 - accuracy: 0.8667 - val_loss: 0.4145 - val_accuracy: 0.8605\n",
      "Epoch 19/40\n",
      "6/6 [==============================] - 2s 428ms/step - loss: 0.3524 - accuracy: 0.8545 - val_loss: 0.4293 - val_accuracy: 0.8605\n",
      "Epoch 20/40\n",
      "6/6 [==============================] - 2s 357ms/step - loss: 0.3377 - accuracy: 0.8727 - val_loss: 0.4209 - val_accuracy: 0.8372\n",
      "Epoch 21/40\n",
      "6/6 [==============================] - 2s 356ms/step - loss: 0.2724 - accuracy: 0.9212 - val_loss: 0.4119 - val_accuracy: 0.8372\n",
      "Epoch 22/40\n",
      "6/6 [==============================] - 2s 357ms/step - loss: 0.3977 - accuracy: 0.8121 - val_loss: 0.4312 - val_accuracy: 0.8140\n",
      "Epoch 23/40\n",
      "6/6 [==============================] - 2s 354ms/step - loss: 0.3262 - accuracy: 0.8485 - val_loss: 0.4356 - val_accuracy: 0.8140\n",
      "Epoch 24/40\n",
      "6/6 [==============================] - 2s 358ms/step - loss: 0.3321 - accuracy: 0.8667 - val_loss: 0.4676 - val_accuracy: 0.8372\n",
      "Epoch 25/40\n",
      "6/6 [==============================] - 2s 365ms/step - loss: 0.3060 - accuracy: 0.8848 - val_loss: 0.3895 - val_accuracy: 0.8605\n",
      "Epoch 26/40\n",
      "6/6 [==============================] - 2s 357ms/step - loss: 0.3020 - accuracy: 0.8727 - val_loss: 0.4010 - val_accuracy: 0.8605\n",
      "Epoch 27/40\n",
      "6/6 [==============================] - 2s 374ms/step - loss: 0.3142 - accuracy: 0.8848 - val_loss: 0.3864 - val_accuracy: 0.8837\n",
      "Epoch 28/40\n",
      "6/6 [==============================] - 2s 356ms/step - loss: 0.3179 - accuracy: 0.8788 - val_loss: 0.3876 - val_accuracy: 0.8605\n",
      "Epoch 29/40\n",
      "6/6 [==============================] - 2s 361ms/step - loss: 0.3015 - accuracy: 0.8485 - val_loss: 0.3726 - val_accuracy: 0.8605\n",
      "Epoch 30/40\n",
      "6/6 [==============================] - 2s 429ms/step - loss: 0.3309 - accuracy: 0.8545 - val_loss: 0.4115 - val_accuracy: 0.8140\n",
      "Epoch 31/40\n",
      "6/6 [==============================] - 2s 358ms/step - loss: 0.3102 - accuracy: 0.8606 - val_loss: 0.4108 - val_accuracy: 0.8140\n",
      "Epoch 32/40\n",
      "6/6 [==============================] - 2s 425ms/step - loss: 0.3571 - accuracy: 0.8667 - val_loss: 0.3609 - val_accuracy: 0.8837\n",
      "Epoch 33/40\n",
      "6/6 [==============================] - 2s 360ms/step - loss: 0.3173 - accuracy: 0.8909 - val_loss: 0.3677 - val_accuracy: 0.8605\n",
      "Epoch 34/40\n",
      "6/6 [==============================] - 2s 429ms/step - loss: 0.3210 - accuracy: 0.8848 - val_loss: 0.3722 - val_accuracy: 0.8605\n",
      "Epoch 35/40\n",
      "6/6 [==============================] - 2s 358ms/step - loss: 0.3127 - accuracy: 0.8545 - val_loss: 0.3664 - val_accuracy: 0.9070\n",
      "Epoch 36/40\n",
      "6/6 [==============================] - 2s 423ms/step - loss: 0.2999 - accuracy: 0.8848 - val_loss: 0.3691 - val_accuracy: 0.8837\n",
      "Epoch 37/40\n",
      "6/6 [==============================] - 2s 354ms/step - loss: 0.2973 - accuracy: 0.8727 - val_loss: 0.3804 - val_accuracy: 0.8837\n",
      "Epoch 38/40\n",
      "6/6 [==============================] - 2s 359ms/step - loss: 0.3195 - accuracy: 0.8545 - val_loss: 0.3813 - val_accuracy: 0.8837\n",
      "Epoch 39/40\n",
      "6/6 [==============================] - 2s 355ms/step - loss: 0.3314 - accuracy: 0.8667 - val_loss: 0.3751 - val_accuracy: 0.8837\n",
      "Epoch 40/40\n",
      "6/6 [==============================] - 2s 422ms/step - loss: 0.2721 - accuracy: 0.8848 - val_loss: 0.3833 - val_accuracy: 0.8837\n"
     ]
    }
   ],
   "source": [
    "# Fine-tuning phase with even lower learning rate\n",
    "for layer in base_model.layers[-30:]:\n",
    "    layer.trainable = True\n",
    "\n",
    "model.compile(optimizer=Adam(lr=5e-6), loss='binary_crossentropy', metrics=['accuracy'])  # Lowered fine-tune LR\n",
    "\n",
    "history_fine_tune = model.fit(\n",
    "    train_generator,\n",
    "    epochs=40,\n",
    "    validation_data=val_generator,\n",
    "    verbose=1\n",
    ")"
   ]
  },
  {
   "cell_type": "code",
   "execution_count": 118,
   "id": "9c99b37e-3988-4c03-bdbc-e6a200b40158",
   "metadata": {
    "tags": []
   },
   "outputs": [
    {
     "name": "stderr",
     "output_type": "stream",
     "text": [
      "/apps/tensorflow/2.7.0/lib/python3.9/site-packages/keras/engine/functional.py:1410: CustomMaskWarning: Custom mask layers require a config and must override get_config. When loading, the custom mask layer must be passed to the custom_objects argument.\n",
      "  layer_config = serialize_layer_fn(layer)\n"
     ]
    },
    {
     "data": {
      "image/png": "[encoded data removed]",
      "text/plain": [
       "<Figure size 864x432 with 1 Axes>"
      ]
     },
     "metadata": {
      "needs_background": "light"
     },
     "output_type": "display_data"
    }
   ],
   "source": [
    "import matplotlib.pyplot as plt\n",
    "# Save the model\n",
    "model.save('bcc_model_basic.h5')\n",
    "\n",
    "# Plot training history\n",
    "plt.figure(figsize=(12, 6))\n",
    "plt.plot(history.history['accuracy'], label='Train Accuracy')\n",
    "plt.plot(history.history['val_accuracy'], label='Validation Accuracy')\n",
    "plt.plot(history_fine_tune.history['accuracy'], label='Fine-tune Train Accuracy')\n",
    "plt.plot(history_fine_tune.history['val_accuracy'], label='Fine-tune Validation Accuracy')\n",
    "plt.xlabel('Epochs')\n",
    "plt.ylabel('Accuracy')\n",
    "plt.legend()\n",
    "plt.title('Training and Validation Accuracy')\n",
    "plt.show()"
   ]
  },
  {
   "cell_type": "code",
   "execution_count": 119,
   "id": "9e0e5185-4740-4f77-b3f2-b35dc669825b",
   "metadata": {
    "tags": []
   },
   "outputs": [
    {
     "name": "stdout",
     "output_type": "stream",
     "text": [
      "True Positives (TP): 15\n",
      "True Negatives (TN): 13\n",
      "False Positives (FP): 8\n",
      "False Negatives (FN): 7\n",
      "\n",
      "Classification Report:\n",
      "              precision    recall  f1-score   support\n",
      "\n",
      "       Clear       0.65      0.62      0.63        21\n",
      "     Present       0.65      0.68      0.67        22\n",
      "\n",
      "    accuracy                           0.65        43\n",
      "   macro avg       0.65      0.65      0.65        43\n",
      "weighted avg       0.65      0.65      0.65        43\n",
      "\n"
     ]
    }
   ],
   "source": [
    "from sklearn.metrics import confusion_matrix, classification_report\n",
    "import numpy as np\n",
    "\n",
    "# Step 1: Make predictions on the validation set\n",
    "val_generator.reset()  # Ensure generator is at the start\n",
    "predictions = model.predict(val_generator)\n",
    "predicted_classes = (predictions > 0.5).astype(\"int32\")  # Convert probabilities to binary labels\n",
    "\n",
    "# Step 2: Get true labels from the generator\n",
    "true_classes = val_generator.classes\n",
    "\n",
    "# Step 3: Calculate the confusion matrix\n",
    "conf_matrix = confusion_matrix(true_classes, predicted_classes)\n",
    "\n",
    "# Step 4: Extract TP, TN, FP, FN from the confusion matrix\n",
    "TN, FP, FN, TP = conf_matrix.ravel()  # Assuming a binary classification problem\n",
    "\n",
    "# Display the results\n",
    "print(f\"True Positives (TP): {TP}\")\n",
    "print(f\"True Negatives (TN): {TN}\")\n",
    "print(f\"False Positives (FP): {FP}\")\n",
    "print(f\"False Negatives (FN): {FN}\")\n",
    "\n",
    "# Optional: Print a classification report for additional metrics\n",
    "print(\"\\nClassification Report:\")\n",
    "print(classification_report(true_classes, predicted_classes, target_names=val_generator.class_indices.keys()))\n"
   ]
  },
  {
   "cell_type": "code",
   "execution_count": 120,
   "id": "5426e46a-742f-4421-876b-53b245ff4aa9",
   "metadata": {
    "tags": []
   },
   "outputs": [
    {
     "data": {
      "image/png": "[encoded data removed]",
      "text/plain": [
       "<Figure size 432x288 with 2 Axes>"
      ]
     },
     "metadata": {
      "needs_background": "light"
     },
     "output_type": "display_data"
    }
   ],
   "source": [
    "import seaborn as sns\n",
    "import matplotlib.pyplot as plt\n",
    "\n",
    "plt.figure(figsize=(6, 4))\n",
    "sns.heatmap(conf_matrix, annot=True, fmt=\"d\", cmap=\"Blues\", xticklabels=['Negative', 'Positive'], yticklabels=['Negative', 'Positive'])\n",
    "plt.xlabel(\"Predicted\")\n",
    "plt.ylabel(\"Actual\")\n",
    "plt.title(\"Confusion Matrix\")\n",
    "plt.show()\n"
   ]
  }
 ],
 "metadata": {
  "kernelspec": {
   "display_name": "Tensorflow-2.7.0",
   "language": "python",
   "name": "tensorflow-2.7.0"
  },
  "language_info": {
   "codemirror_mode": {
    "name": "ipython",
    "version": 3
   },
   "file_extension": ".py",
   "mimetype": "text/x-python",
   "name": "python",
   "nbconvert_exporter": "python",
   "pygments_lexer": "ipython3",
   "version": "3.9.12"
  }
 },
 "nbformat": 4,
 "nbformat_minor": 5
}
