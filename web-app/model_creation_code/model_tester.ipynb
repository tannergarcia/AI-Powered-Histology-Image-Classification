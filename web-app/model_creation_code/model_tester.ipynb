{
 "cells": [
  {
   "cell_type": "code",
   "execution_count": 1,
   "id": "7fc46475-b55b-45b2-b30f-4cc955e216c4",
   "metadata": {
    "tags": []
   },
   "outputs": [],
   "source": [
    "import os\n",
    "import pandas as pd\n",
    "import shutil\n",
    "import tensorflow as tf\n",
    "from tensorflow.keras.preprocessing.image import ImageDataGenerator\n",
    "from tensorflow.keras.applications.resnet50 import preprocess_input\n",
    "from sklearn.metrics import confusion_matrix, classification_report\n",
    "import numpy as np\n",
    "import matplotlib.pyplot as plt\n",
    "import seaborn as sns\n",
    "\n",
    "# Paths\n",
    "output_dir = 'all_organized_data'\n",
    "val_dir = os.path.join(output_dir, 'val')\n"
   ]
  },
  {
   "cell_type": "code",
   "execution_count": 5,
   "id": "92297cb2-87c5-4390-803d-ab5220b7475c",
   "metadata": {
    "jupyter": {
     "source_hidden": true
    },
    "tags": []
   },
   "outputs": [],
   "source": [
    "# Create organized directory for test data\n",
    "test_dir = os.path.join(output_dir, 'test')\n",
    "os.makedirs(test_dir, exist_ok=True)"
   ]
  },
  {
   "cell_type": "code",
   "execution_count": 6,
   "id": "3dca4872-1dd0-4bbd-b3f0-e8449fffb91e",
   "metadata": {
    "collapsed": true,
    "jupyter": {
     "outputs_hidden": true,
     "source_hidden": true
    },
    "tags": []
   },
   "outputs": [
    {
     "name": "stdout",
     "output_type": "stream",
     "text": [
      "Total images copied to special_organized_data/test: 19\n"
     ]
    }
   ],
   "source": [
    "# Organize test images\n",
    "def organize_test_images(dest_dir):\n",
    "    total_copied = 0  # Track copied images\n",
    "    for study_id, group in grouped:\n",
    "        for _, row in group.iterrows():\n",
    "            slide_id = row['slide_id']\n",
    "            label = row['label']\n",
    "            label_dir = 'Clear' if label == 0 else 'Present'\n",
    "            source_dir = os.path.join(image_dir, slide_id)\n",
    "            dest_label_dir = os.path.join(dest_dir, label_dir)\n",
    "            os.makedirs(dest_label_dir, exist_ok=True)\n",
    "            if os.path.exists(source_dir):\n",
    "                for file in os.listdir(source_dir):\n",
    "                    if file.endswith('.png'):\n",
    "                        # Append slide_id to filename to prevent overwriting\n",
    "                        new_file_name = f\"{slide_id}_{file}\"\n",
    "                        shutil.copy(\n",
    "                            os.path.join(source_dir, file),\n",
    "                            os.path.join(dest_label_dir, new_file_name)\n",
    "                        )\n",
    "                        total_copied += 1\n",
    "    print(f\"Total images copied to {dest_dir}: {total_copied}\")\n",
    "\n",
    "organize_test_images(test_dir)\n"
   ]
  },
  {
   "cell_type": "code",
   "execution_count": 1,
   "id": "10b9407b-6314-4fa1-8a49-0b5141b08bf2",
   "metadata": {},
   "outputs": [
    {
     "name": "stdout",
     "output_type": "stream",
     "text": [
      "INFO:tensorflow:Mixed precision compatibility check (mixed_float16): OK\n",
      "Your GPU will likely run quickly with dtype policy mixed_float16 as it has compute capability of at least 7.0. Your GPU: NVIDIA A100-SXM4-80GB, compute capability 8.0\n"
     ]
    },
    {
     "name": "stderr",
     "output_type": "stream",
     "text": [
      "2024-12-03 18:47:41.826341: I tensorflow/core/platform/cpu_feature_guard.cc:151] This TensorFlow binary is optimized with oneAPI Deep Neural Network Library (oneDNN) to use the following CPU instructions in performance-critical operations:  SSE4.1 SSE4.2 AVX AVX2 FMA\n",
      "To enable them in other operations, rebuild TensorFlow with the appropriate compiler flags.\n",
      "2024-12-03 18:47:43.207852: I tensorflow/core/common_runtime/gpu/gpu_device.cc:1525] Created device /job:localhost/replica:0/task:0/device:GPU:0 with 78902 MB memory:  -> device: 0, name: NVIDIA A100-SXM4-80GB, pci bus id: 0000:90:00.0, compute capability: 8.0\n"
     ]
    }
   ],
   "source": [
    "from tensorflow.keras.models import load_model\n",
    "from tensorflow.keras.layers import SpatialDropout2D\n",
    "model = load_model('after_finetuning_papa_BCC_model.h5', custom_objects={\"SpatialDropout2D\": SpatialDropout2D})"
   ]
  },
  {
   "cell_type": "code",
   "execution_count": 3,
   "id": "a3322572-8799-4a17-9b5d-cc545aee02a9",
   "metadata": {},
   "outputs": [
    {
     "name": "stdout",
     "output_type": "stream",
     "text": [
      "Found 422 images belonging to 2 classes.\n"
     ]
    }
   ],
   "source": [
    "# Data generator for test images\n",
    "image_size = (1792, 1792)\n",
    "batch_size = 4\n",
    "\n",
    "val_datagen = ImageDataGenerator(\n",
    "    preprocessing_function=preprocess_input\n",
    ")\n",
    "\n",
    "val_generator = val_datagen.flow_from_directory(\n",
    "    val_dir,\n",
    "    target_size=image_size,\n",
    "    batch_size=batch_size,\n",
    "    class_mode='binary',\n",
    "    shuffle=False\n",
    ")"
   ]
  },
  {
   "cell_type": "code",
   "execution_count": 7,
   "id": "0ae2b487-e2ac-41a5-9363-bef34c11f755",
   "metadata": {
    "tags": []
   },
   "outputs": [
    {
     "name": "stdout",
     "output_type": "stream",
     "text": [
      "True Positives (TP): 211\n",
      "True Negatives (TN): 159\n",
      "False Positives (FP): 42\n",
      "False Negatives (FN): 10\n",
      "\n",
      "Classification Report:\n",
      "              precision    recall  f1-score   support\n",
      "\n",
      "       Clear       0.94      0.79      0.86       201\n",
      "     Present       0.83      0.95      0.89       221\n",
      "\n",
      "    accuracy                           0.88       422\n",
      "   macro avg       0.89      0.87      0.87       422\n",
      "weighted avg       0.88      0.88      0.88       422\n",
      "\n"
     ]
    }
   ],
   "source": [
    "from sklearn.metrics import confusion_matrix, classification_report\n",
    "import numpy as np\n",
    "\n",
    "# Step 1: Make predictions on the validation set\n",
    "val_generator.reset()  # Ensure generator is at the start\n",
    "predictions = model.predict(val_generator)\n",
    "predicted_classes = (predictions > 0.5).astype(\"int32\")  # Convert probabilities to binary labels\n",
    "\n",
    "# Step 2: Get true labels from the generator\n",
    "true_classes = val_generator.classes\n",
    "\n",
    "# Step 3: Calculate the confusion matrix\n",
    "conf_matrix = confusion_matrix(true_classes, predicted_classes)\n",
    "\n",
    "# Step 4: Extract TP, TN, FP, FN from the confusion matrix\n",
    "TN, FP, FN, TP = conf_matrix.ravel()  # Assuming a binary classification problem\n",
    "\n",
    "# Display the results\n",
    "print(f\"True Positives (TP): {TP}\")\n",
    "print(f\"True Negatives (TN): {TN}\")\n",
    "print(f\"False Positives (FP): {FP}\")\n",
    "print(f\"False Negatives (FN): {FN}\")\n",
    "\n",
    "# Optional: Print a classification report for additional metrics\n",
    "print(\"\\nClassification Report:\")\n",
    "print(classification_report(true_classes, predicted_classes, target_names=val_generator.class_indices.keys()))\n"
   ]
  },
  {
   "cell_type": "code",
   "execution_count": 8,
   "id": "6f3c4adc-93bc-4681-af79-64e5cca1b58a",
   "metadata": {
    "tags": []
   },
   "outputs": [
    {
     "data": {
      "image/png": "[encoded data removed]",
      "text/plain": [
       "<Figure size 576x432 with 1 Axes>"
      ]
     },
     "metadata": {
      "needs_background": "light"
     },
     "output_type": "display_data"
    }
   ],
   "source": [
    "from sklearn.metrics import roc_curve, auc\n",
    "\n",
    "# Compute ROC curve and AUC\n",
    "fpr, tpr, _ = roc_curve(true_classes, predictions)\n",
    "roc_auc = auc(fpr, tpr)\n",
    "\n",
    "# Plot ROC Curve\n",
    "plt.figure(figsize=(8, 6))\n",
    "plt.plot(fpr, tpr, color='darkorange', lw=2, label=f'ROC Curve (AUC = {roc_auc:.2f})')\n",
    "plt.plot([0, 1], [0, 1], color='navy', lw=2, linestyle='--')\n",
    "plt.xlabel('False Positive Rate')\n",
    "plt.ylabel('True Positive Rate')\n",
    "plt.title('Receiver Operating Characteristic (ROC) Curve')\n",
    "plt.legend(loc=\"lower right\")\n",
    "plt.show()\n"
   ]
  },
  {
   "cell_type": "code",
   "execution_count": 9,
   "id": "36eef64d-4d95-4502-b558-8f933e853dfc",
   "metadata": {
    "tags": []
   },
   "outputs": [
    {
     "data": {
      "image/png": "[encoded data removed]",
      "text/plain": [
       "<Figure size 576x432 with 1 Axes>"
      ]
     },
     "metadata": {
      "needs_background": "light"
     },
     "output_type": "display_data"
    }
   ],
   "source": [
    "from sklearn.metrics import precision_recall_curve, average_precision_score\n",
    "\n",
    "# Compute Precision-Recall curve and Average Precision\n",
    "precision, recall, _ = precision_recall_curve(true_classes, predictions)\n",
    "avg_precision = average_precision_score(true_classes, predictions)\n",
    "\n",
    "# Plot Precision-Recall Curve\n",
    "plt.figure(figsize=(8, 6))\n",
    "plt.plot(recall, precision, color='blue', lw=2, label=f'Precision-Recall Curve (AP = {avg_precision:.2f})')\n",
    "plt.xlabel('Recall')\n",
    "plt.ylabel('Precision')\n",
    "plt.title('Precision-Recall Curve')\n",
    "plt.legend(loc=\"lower left\")\n",
    "plt.show()\n"
   ]
  },
  {
   "cell_type": "markdown",
   "id": "f0f6b8d7-8cc4-4fd9-a5c7-cab0e32bac79",
   "metadata": {},
   "source": [
    "# CAM Outputs"
   ]
  },
  {
   "cell_type": "code",
   "execution_count": 2,
   "id": "46e9bd74-1ad6-4c65-b7cd-ef0e1778cdd7",
   "metadata": {
    "tags": []
   },
   "outputs": [
    {
     "name": "stdout",
     "output_type": "stream",
     "text": [
      "INFO:tensorflow:Mixed precision compatibility check (mixed_float16): OK\n",
      "Your GPU will likely run quickly with dtype policy mixed_float16 as it has compute capability of at least 7.0. Your GPU: NVIDIA A100-SXM4-80GB, compute capability 8.0\n"
     ]
    },
    {
     "name": "stderr",
     "output_type": "stream",
     "text": [
      "2024-11-22 17:46:55.475055: I tensorflow/core/platform/cpu_feature_guard.cc:151] This TensorFlow binary is optimized with oneAPI Deep Neural Network Library (oneDNN) to use the following CPU instructions in performance-critical operations:  SSE4.1 SSE4.2 AVX AVX2 FMA\n",
      "To enable them in other operations, rebuild TensorFlow with the appropriate compiler flags.\n",
      "2024-11-22 17:46:56.395567: I tensorflow/core/common_runtime/gpu/gpu_device.cc:1525] Created device /job:localhost/replica:0/task:0/device:GPU:0 with 78902 MB memory:  -> device: 0, name: NVIDIA A100-SXM4-80GB, pci bus id: 0000:b7:00.0, compute capability: 8.0\n"
     ]
    }
   ],
   "source": [
    "from tensorflow.keras import layers, models, optimizers\n",
    "import tensorflow as tf\n",
    "\n",
    "from tensorflow.keras import mixed_precision\n",
    "mixed_precision.set_global_policy('mixed_float16')\n",
    "\n",
    "\n",
    "from classification_models.tfkeras import Classifiers\n",
    "ResNet34, preprocess_input = Classifiers.get('resnet34')\n",
    "\n",
    "# Step 3: Load the Pre-trained ResNet-34 model without the top layers\n",
    "base_model = ResNet34(weights='imagenet', include_top=False, input_shape=(1792, 1792, 3))\n",
    "\n",
    "# Freeze the base model layers initially\n",
    "base_model.trainable = False\n",
    "\n",
    "# Step 5: Build the model\n",
    "inputs = layers.Input(shape=(1792, 1792, 3))\n",
    "x = base_model(inputs, training=False)\n",
    "\n",
    "# Capture the output of the last convolutional layer\n",
    "last_conv_layer_output = x  # This is the output we need for Grad-CAM\n",
    "\n",
    "# Multi-scale feature detection\n",
    "x1 = layers.Conv2D(\n",
    "    filters=128, kernel_size=(3, 3), activation='relu',\n",
    "    kernel_regularizer=tf.keras.regularizers.l2(0.01), padding='same'\n",
    ")(x)\n",
    "\n",
    "x2 = layers.Conv2D(\n",
    "    filters=128, kernel_size=(5, 5), activation='relu',\n",
    "    kernel_regularizer=tf.keras.regularizers.l2(0.01), padding='same'\n",
    ")(x)\n",
    "\n",
    "x = layers.Concatenate()([x1, x2])\n",
    "\n",
    "# Add dropout for regularization\n",
    "x = layers.SpatialDropout2D(0.2)(x)\n",
    "\n",
    "# Downsample with strided convolution\n",
    "x = layers.Conv2D(\n",
    "    filters=256, kernel_size=(3, 3), strides=(2, 2), activation='relu', padding='same'\n",
    ")(x)\n",
    "\n",
    "# Flatten spatial features using Global Average Pooling\n",
    "x = layers.GlobalAveragePooling2D()(x)\n",
    "\n",
    "# Fully connected layers for classification\n",
    "x = layers.Dense(1024, activation='relu')(x)\n",
    "x = layers.Dropout(0.5)(x)  # Dropout for fully connected layer\n",
    "outputs = layers.Dense(1, activation='sigmoid', dtype='float32')(x)\n",
    "\n",
    "# Build the complete model\n",
    "model = models.Model(inputs=inputs, outputs=outputs)\n"
   ]
  },
  {
   "cell_type": "code",
   "execution_count": 3,
   "id": "bb84729f-3875-470b-bda2-427f3f61b8be",
   "metadata": {
    "tags": []
   },
   "outputs": [],
   "source": [
    "# Load weights from the saved model\n",
    "from tensorflow.keras.layers import SpatialDropout2D\n",
    "\n",
    "model = models.load_model(\n",
    "    'after_finetuning_papa_BCC_model.h5',\n",
    "    custom_objects={\"SpatialDropout2D\": SpatialDropout2D}\n",
    ")"
   ]
  },
  {
   "cell_type": "code",
   "execution_count": 4,
   "id": "9250699c-2766-4e47-a1ea-53fb477c7b17",
   "metadata": {
    "tags": []
   },
   "outputs": [],
   "source": [
    "last_conv_layer_name = 'conv2d_2'\n",
    "last_conv_layer_output = model.get_layer(last_conv_layer_name).output"
   ]
  },
  {
   "cell_type": "code",
   "execution_count": 5,
   "id": "260a5c58-628f-479a-9a66-2e08eb37e0a9",
   "metadata": {
    "tags": []
   },
   "outputs": [],
   "source": [
    "from tensorflow.keras.models import Model\n",
    "\n",
    "# Create a new model for Grad-CAM\n",
    "model_with_conv_outputs = Model(inputs=model.input, outputs=[last_conv_layer_output, model.output])"
   ]
  },
  {
   "cell_type": "code",
   "execution_count": null,
   "id": "eaed0cb8-7f3e-4d35-a0cd-049fe2727f2e",
   "metadata": {
    "tags": []
   },
   "outputs": [],
   "source": [
    "import os\n",
    "import glob\n",
    "import numpy as np\n",
    "import cv2\n",
    "import matplotlib.pyplot as plt\n",
    "import tensorflow as tf\n",
    "\n",
    "def load_and_preprocess_image(img_path, target_size):\n",
    "    img = tf.keras.preprocessing.image.load_img(img_path, target_size=target_size)\n",
    "    img_array = tf.keras.preprocessing.image.img_to_array(img)\n",
    "    img_array = np.expand_dims(img_array, axis=0)\n",
    "    # Use the same preprocessing function as in your training\n",
    "    img_array = tf.keras.applications.resnet50.preprocess_input(img_array)\n",
    "    return img_array\n",
    "\n",
    "def make_gradcam_heatmap(img_array, model_with_conv_outputs, pred_index=None):\n",
    "    with tf.GradientTape() as tape:\n",
    "        # Forward pass\n",
    "        conv_outputs, predictions = model_with_conv_outputs(img_array)\n",
    "        if pred_index is None:\n",
    "            pred_index = tf.argmax(predictions[0])\n",
    "        class_channel = predictions[:, pred_index]\n",
    "\n",
    "    # Compute the gradient of the class output value with respect to the feature map\n",
    "    grads = tape.gradient(class_channel, conv_outputs)\n",
    "\n",
    "    # Handle possible None gradients\n",
    "    if grads is None:\n",
    "        print(\"Gradients are None. Check the computation graph.\")\n",
    "        return None\n",
    "\n",
    "    # Pooled gradients\n",
    "    pooled_grads = tf.reduce_mean(grads, axis=(0, 1, 2))\n",
    "\n",
    "    # Multiply each channel in the feature map array by the importance of that channel\n",
    "    conv_outputs = conv_outputs[0]  # Remove the batch dimension\n",
    "    conv_outputs = tf.cast(conv_outputs, tf.float32)\n",
    "    pooled_grads = tf.cast(pooled_grads, tf.float32)\n",
    "\n",
    "    heatmap = conv_outputs @ pooled_grads[..., tf.newaxis]\n",
    "    heatmap = tf.squeeze(heatmap)\n",
    "\n",
    "    # Normalize the heatmap\n",
    "    heatmap = tf.maximum(heatmap, 0) / (tf.reduce_max(heatmap) + tf.keras.backend.epsilon())\n",
    "\n",
    "    return heatmap.numpy()\n",
    "\n",
    "\n",
    "def display_gradcam_with_original(img_path, heatmap, alpha=0.4):\n",
    "    # Load the original image\n",
    "    img = cv2.imread(img_path)\n",
    "    img = cv2.cvtColor(img, cv2.COLOR_BGR2RGB)\n",
    "\n",
    "    # Resize the heatmap to match the original image size\n",
    "    heatmap_resized = cv2.resize(heatmap, (img.shape[1], img.shape[0]))\n",
    "\n",
    "    # Convert the heatmap to RGB\n",
    "    heatmap_rescaled = np.uint8(255 * heatmap_resized)\n",
    "    heatmap_color = cv2.applyColorMap(heatmap_rescaled, cv2.COLORMAP_JET)\n",
    "    heatmap_color = cv2.cvtColor(heatmap_color, cv2.COLOR_BGR2RGB)\n",
    "\n",
    "    # Overlay the heatmap on the original image\n",
    "    overlay = cv2.addWeighted(img, 1 - alpha, heatmap_color, alpha, 0)\n",
    "\n",
    "    # Create a side-by-side display\n",
    "    plt.figure(figsize=(15, 10))\n",
    "    # Display the original image\n",
    "    plt.subplot(1, 2, 1)\n",
    "    plt.imshow(img)\n",
    "    plt.axis('off')\n",
    "    plt.title('Original Image')\n",
    "\n",
    "    # Display the Grad-CAM overlay\n",
    "    plt.subplot(1, 2, 2)\n",
    "    plt.imshow(overlay)\n",
    "    plt.axis('off')\n",
    "    plt.title('Grad-CAM')\n",
    "\n",
    "    # Show the combined figure\n",
    "    plt.tight_layout()\n",
    "    plt.show()\n",
    "\n",
    "# Specify the directory containing your images\n",
    "present_dir = '/home/francokrepel/blue/vabfmc/data/working/d.uriartediaz/francokrepel/extended_organized_data/val/Present'  # Adjust this to your actual directory if needed\n",
    "\n",
    "# Get list of all image paths in the \"Present\" directory\n",
    "image_paths = glob.glob(os.path.join(present_dir, '*.png'))  # You can change '*.png' to match your image format\n",
    "\n",
    "# Loop through each image in the directory\n",
    "for img_path in image_paths:\n",
    "    print(f\"Processing {img_path}\")\n",
    "\n",
    "    # Step 1: Load and preprocess the image\n",
    "    img_array = load_and_preprocess_image(img_path, target_size=(1792, 1792))\n",
    "\n",
    "    # Step 2: Generate Grad-CAM heatmap\n",
    "    heatmap = make_gradcam_heatmap(img_array, model_with_conv_outputs)\n",
    "\n",
    "    # Step 3: Display the Grad-CAM with the original image\n",
    "    if heatmap is not None:\n",
    "        display_gradcam_with_original(img_path, heatmap)\n",
    "    else:\n",
    "        print(\"Failed to generate Grad-CAM heatmap for image:\", img_path)\n",
    "        continue  # Skip to the next image if heatmap generation fails\n",
    "\n",
    "    # Step 4: Make predictions\n",
    "    prediction = model.predict(img_array)\n",
    "\n",
    "    # Step 5: Interpret the prediction\n",
    "    # Since this is a binary classification, the output is a probability\n",
    "    if prediction[0][0] > 0.5:\n",
    "        print(f\"Prediction: Present (Confidence: {prediction[0][0]:.2f})\")\n",
    "    else:\n",
    "        print(f\"Prediction: Clear (Confidence: {1 - prediction[0][0]:.2f})\")\n"
   ]
  }
 ],
 "metadata": {
  "kernelspec": {
   "display_name": "Tensorflow-2.7.0",
   "language": "python",
   "name": "tensorflow-2.7.0"
  },
  "language_info": {
   "codemirror_mode": {
    "name": "ipython",
    "version": 3
   },
   "file_extension": ".py",
   "mimetype": "text/x-python",
   "name": "python",
   "nbconvert_exporter": "python",
   "pygments_lexer": "ipython3",
   "version": "3.9.12"
  }
 },
 "nbformat": 4,
 "nbformat_minor": 5
}
